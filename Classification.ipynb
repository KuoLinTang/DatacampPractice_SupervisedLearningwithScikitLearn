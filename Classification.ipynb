{
 "cells": [
  {
   "cell_type": "markdown",
   "id": "chronic-basis",
   "metadata": {},
   "source": [
    "## Import modules"
   ]
  },
  {
   "cell_type": "code",
   "execution_count": 1,
   "id": "supreme-owner",
   "metadata": {},
   "outputs": [],
   "source": [
    "from sklearn import datasets        #pip install sklearn\n",
    "import pandas as pd\n",
    "import numpy as np\n",
    "import matplotlib.pyplot as plt     #pip install matplotlib"
   ]
  },
  {
   "cell_type": "markdown",
   "id": "failing-thursday",
   "metadata": {},
   "source": [
    "## Set up our plot style"
   ]
  },
  {
   "cell_type": "code",
   "execution_count": 2,
   "id": "laden-drain",
   "metadata": {},
   "outputs": [],
   "source": [
    "# Set plot style\n",
    "plt.style.use('ggplot')"
   ]
  },
  {
   "cell_type": "markdown",
   "id": "molecular-recipe",
   "metadata": {},
   "source": [
    "## Load dataset"
   ]
  },
  {
   "cell_type": "code",
   "execution_count": 7,
   "id": "artistic-stability",
   "metadata": {},
   "outputs": [
    {
     "name": "stdout",
     "output_type": "stream",
     "text": [
      "<class 'sklearn.utils.Bunch'>\n"
     ]
    }
   ],
   "source": [
    "iris = datasets.load_iris()\n",
    "print(type(iris))"
   ]
  },
  {
   "cell_type": "markdown",
   "id": "danish-width",
   "metadata": {},
   "source": [
    "iris的type為'sklearn.utils.Bunch'，是一種類似dictionary的資料結構，也是key:value"
   ]
  },
  {
   "cell_type": "code",
   "execution_count": 8,
   "id": "photographic-mainland",
   "metadata": {},
   "outputs": [
    {
     "name": "stdout",
     "output_type": "stream",
     "text": [
      "dict_keys(['data', 'target', 'frame', 'target_names', 'DESCR', 'feature_names', 'filename'])\n"
     ]
    }
   ],
   "source": [
    "# Print all keys in iris\n",
    "print(iris.keys())"
   ]
  },
  {
   "cell_type": "markdown",
   "id": "fatty-compression",
   "metadata": {},
   "source": [
    "有'data', 'target', 'frame', 'target_names', 'DESCR', 'feature_names', 'filename'這些keys <br/>\n",
    "其中，DESCR代表description of the dataset、data為真的dataset、target代表target variable、feature_names為column names"
   ]
  },
  {
   "cell_type": "code",
   "execution_count": 9,
   "id": "registered-titanium",
   "metadata": {},
   "outputs": [
    {
     "name": "stdout",
     "output_type": "stream",
     "text": [
      "Type of data: <class 'numpy.ndarray'> Type of target variable: <class 'numpy.ndarray'>\n"
     ]
    }
   ],
   "source": [
    "print(\"Type of data: \"+str(type(iris[\"data\"])), \"Type of target variable: \"+str(type(iris[\"target\"])))"
   ]
  },
  {
   "cell_type": "markdown",
   "id": "liquid-arbitration",
   "metadata": {},
   "source": [
    "由上可發現data和target都是numpy array"
   ]
  },
  {
   "cell_type": "code",
   "execution_count": 10,
   "id": "separate-produce",
   "metadata": {},
   "outputs": [
    {
     "name": "stdout",
     "output_type": "stream",
     "text": [
      "Dimension of data: (150, 4)\n"
     ]
    }
   ],
   "source": [
    "print(\"Dimension of data: \"+str(iris.data.shape))"
   ]
  },
  {
   "cell_type": "markdown",
   "id": "medieval-coach",
   "metadata": {},
   "source": [
    "取得number of rows and columns <br/>\n",
    "Target variable中，\"setosa\"被labelled = 0, \"versicolor\"被labelled = 1, \"virginica\"被labelled = 2\""
   ]
  },
  {
   "cell_type": "markdown",
   "id": "dominican-estate",
   "metadata": {},
   "source": [
    "## Convert into dataframe"
   ]
  },
  {
   "cell_type": "code",
   "execution_count": 13,
   "id": "frank-mitchell",
   "metadata": {},
   "outputs": [
    {
     "name": "stdout",
     "output_type": "stream",
     "text": [
      "   sepal length (cm)  sepal width (cm)  petal length (cm)  petal width (cm)\n",
      "0                5.1               3.5                1.4               0.2\n",
      "1                4.9               3.0                1.4               0.2\n",
      "2                4.7               3.2                1.3               0.2\n",
      "3                4.6               3.1                1.5               0.2\n",
      "4                5.0               3.6                1.4               0.2\n",
      "       sepal length (cm)  sepal width (cm)  petal length (cm)  \\\n",
      "count         150.000000        150.000000         150.000000   \n",
      "mean            5.843333          3.057333           3.758000   \n",
      "std             0.828066          0.435866           1.765298   \n",
      "min             4.300000          2.000000           1.000000   \n",
      "25%             5.100000          2.800000           1.600000   \n",
      "50%             5.800000          3.000000           4.350000   \n",
      "75%             6.400000          3.300000           5.100000   \n",
      "max             7.900000          4.400000           6.900000   \n",
      "\n",
      "       petal width (cm)  \n",
      "count        150.000000  \n",
      "mean           1.199333  \n",
      "std            0.762238  \n",
      "min            0.100000  \n",
      "25%            0.300000  \n",
      "50%            1.300000  \n",
      "75%            1.800000  \n",
      "max            2.500000  \n",
      "<class 'pandas.core.frame.DataFrame'>\n",
      "RangeIndex: 150 entries, 0 to 149\n",
      "Data columns (total 4 columns):\n",
      " #   Column             Non-Null Count  Dtype  \n",
      "---  ------             --------------  -----  \n",
      " 0   sepal length (cm)  150 non-null    float64\n",
      " 1   sepal width (cm)   150 non-null    float64\n",
      " 2   petal length (cm)  150 non-null    float64\n",
      " 3   petal width (cm)   150 non-null    float64\n",
      "dtypes: float64(4)\n",
      "memory usage: 4.8 KB\n",
      "None\n"
     ]
    }
   ],
   "source": [
    "# Building a dataframe\n",
    "df = pd.DataFrame(iris.data, columns = iris.feature_names)\n",
    "print(df.head())\n",
    "print(df.describe())\n",
    "# print(df.info())"
   ]
  },
  {
   "cell_type": "markdown",
   "id": "liked-cisco",
   "metadata": {},
   "source": [
    "---"
   ]
  },
  {
   "cell_type": "markdown",
   "id": "interesting-surrey",
   "metadata": {},
   "source": [
    "# K-nearest neighbor classifier"
   ]
  },
  {
   "cell_type": "code",
   "execution_count": 14,
   "id": "composite-working",
   "metadata": {},
   "outputs": [],
   "source": [
    "from sklearn.neighbors import KNeighborsClassifier"
   ]
  },
  {
   "cell_type": "code",
   "execution_count": 15,
   "id": "featured-wiring",
   "metadata": {},
   "outputs": [],
   "source": [
    "# initialize a model and specify a number of k\n",
    "knn = KNeighborsClassifier(n_neighbors = 6)"
   ]
  },
  {
   "cell_type": "markdown",
   "id": "stuffed-father",
   "metadata": {},
   "source": [
    "Training our model"
   ]
  },
  {
   "cell_type": "code",
   "execution_count": 16,
   "id": "dangerous-charge",
   "metadata": {},
   "outputs": [
    {
     "data": {
      "text/plain": [
       "KNeighborsClassifier(n_neighbors=6)"
      ]
     },
     "execution_count": 16,
     "metadata": {},
     "output_type": "execute_result"
    }
   ],
   "source": [
    "knn.fit(iris[\"data\"], iris[\"target\"])"
   ]
  },
  {
   "cell_type": "markdown",
   "id": "transparent-product",
   "metadata": {},
   "source": [
    "Testing data"
   ]
  },
  {
   "cell_type": "code",
   "execution_count": 17,
   "id": "clinical-webcam",
   "metadata": {},
   "outputs": [],
   "source": [
    "X_new = np.array([[5.6,2.8,3.9,1.1],[5.7,2.6,3.8,1.3],[4.7,3.2,1.3,0.2]])"
   ]
  },
  {
   "cell_type": "markdown",
   "id": "criminal-excuse",
   "metadata": {},
   "source": [
    "Make prediction"
   ]
  },
  {
   "cell_type": "code",
   "execution_count": 25,
   "id": "living-environment",
   "metadata": {},
   "outputs": [
    {
     "data": {
      "text/plain": [
       "['versicolor', 'versicolor', 'setosa']"
      ]
     },
     "execution_count": 25,
     "metadata": {},
     "output_type": "execute_result"
    }
   ],
   "source": [
    "prediction = knn.predict(X_new)\n",
    "prediction\n",
    "temp = []\n",
    "for i in prediction:\n",
    "    if i == 0:\n",
    "        temp.append(\"setosa\")\n",
    "    elif i == 1:\n",
    "        temp.append(\"versicolor\")\n",
    "    elif i == 2:\n",
    "        temp.append(\"virginica\")\n",
    "temp"
   ]
  },
  {
   "cell_type": "markdown",
   "id": "broken-corps",
   "metadata": {},
   "source": [
    "---"
   ]
  },
  {
   "cell_type": "markdown",
   "id": "manual-burke",
   "metadata": {},
   "source": [
    "# Data partitioning"
   ]
  },
  {
   "cell_type": "code",
   "execution_count": 26,
   "id": "several-patio",
   "metadata": {},
   "outputs": [],
   "source": [
    "from sklearn.model_selection import train_test_split\n",
    "X = iris[\"data\"]\n",
    "y = iris[\"target\"]\n",
    "X_train, X_test, y_train, y_test = train_test_split(X, y, test_size = 0.3, random_state=21, stratify = y)"
   ]
  },
  {
   "cell_type": "markdown",
   "id": "written-special",
   "metadata": {},
   "source": [
    "Training and assessing the model"
   ]
  },
  {
   "cell_type": "code",
   "execution_count": 28,
   "id": "affiliated-telling",
   "metadata": {},
   "outputs": [
    {
     "data": {
      "text/plain": [
       "['virginica',\n",
       " 'versicolor',\n",
       " 'virginica',\n",
       " 'virginica',\n",
       " 'versicolor',\n",
       " 'setosa',\n",
       " 'versicolor',\n",
       " 'setosa',\n",
       " 'setosa',\n",
       " 'versicolor',\n",
       " 'setosa',\n",
       " 'virginica',\n",
       " 'setosa',\n",
       " 'virginica',\n",
       " 'virginica',\n",
       " 'setosa',\n",
       " 'setosa',\n",
       " 'setosa',\n",
       " 'versicolor',\n",
       " 'setosa',\n",
       " 'virginica',\n",
       " 'virginica',\n",
       " 'virginica',\n",
       " 'setosa',\n",
       " 'versicolor',\n",
       " 'versicolor',\n",
       " 'versicolor',\n",
       " 'setosa',\n",
       " 'setosa',\n",
       " 'versicolor',\n",
       " 'virginica',\n",
       " 'virginica',\n",
       " 'setosa',\n",
       " 'setosa',\n",
       " 'versicolor',\n",
       " 'virginica',\n",
       " 'virginica',\n",
       " 'versicolor',\n",
       " 'versicolor',\n",
       " 'virginica',\n",
       " 'versicolor',\n",
       " 'versicolor',\n",
       " 'setosa',\n",
       " 'virginica',\n",
       " 'versicolor']"
      ]
     },
     "execution_count": 28,
     "metadata": {},
     "output_type": "execute_result"
    }
   ],
   "source": [
    "knn = KNeighborsClassifier(n_neighbors = 8)\n",
    "knn.fit(X_train, y_train)\n",
    "# Predicting\n",
    "y_pred = knn.predict(X_test)\n",
    "temp = []\n",
    "for i in y_pred:\n",
    "    if i == 0:\n",
    "        temp.append(\"setosa\")\n",
    "    elif i == 1:\n",
    "        temp.append(\"versicolor\")\n",
    "    elif i == 2:\n",
    "        temp.append(\"virginica\")\n",
    "temp"
   ]
  },
  {
   "cell_type": "markdown",
   "id": "aggressive-bolivia",
   "metadata": {},
   "source": [
    "Accuracy"
   ]
  },
  {
   "cell_type": "code",
   "execution_count": 29,
   "id": "attractive-zoning",
   "metadata": {},
   "outputs": [
    {
     "name": "stdout",
     "output_type": "stream",
     "text": [
      "Prediction Accuracy (Method 1): 0.9555555555555556\n",
      "Prediction Accuracy (Method 2): 0.9555555555555556\n"
     ]
    }
   ],
   "source": [
    "# Accuracy\n",
    "## Method 1\n",
    "print(\"Prediction Accuracy (Method 1): \"+str(len(y_pred[y_pred==y_test])/len(y_pred)))\n",
    "## Method 2\n",
    "print(\"Prediction Accuracy (Method 2): \"+str(knn.score(X_test, y_test)))"
   ]
  },
  {
   "cell_type": "markdown",
   "id": "resident-relations",
   "metadata": {},
   "source": [
    "---"
   ]
  },
  {
   "cell_type": "markdown",
   "id": "circular-incidence",
   "metadata": {},
   "source": [
    "Overfitting and underfitting"
   ]
  },
  {
   "cell_type": "code",
   "execution_count": 30,
   "id": "norwegian-idaho",
   "metadata": {},
   "outputs": [
    {
     "data": {
      "image/png": "[encoded data removed]",
      "text/plain": [
       "<Figure size 432x288 with 1 Axes>"
      ]
     },
     "metadata": {},
     "output_type": "display_data"
    }
   ],
   "source": [
    "# 檢查overfit或underfit\n",
    "# Setup arrays to store train and test accuracies\n",
    "neighbors = np.arange(1, 9)\n",
    "train_accuracy = np.empty(len(neighbors))\n",
    "test_accuracy = np.empty(len(neighbors))\n",
    "\n",
    "# Loop over different values of k\n",
    "for i, k in enumerate(neighbors):\n",
    "    # Setup a k-NN Classifier with k neighbors: knn\n",
    "    knn = KNeighborsClassifier(n_neighbors = k)\n",
    "\n",
    "    # Fit the classifier to the training data\n",
    "    knn.fit(X_train,y_train)\n",
    "    \n",
    "    #Compute accuracy on the training set\n",
    "    train_accuracy[i] = knn.score(X_train, y_train)\n",
    "\n",
    "    #Compute accuracy on the testing set\n",
    "    test_accuracy[i] = knn.score(X_test, y_test)\n",
    "\n",
    "# Generate plot\n",
    "plt.title('k-NN: Varying Number of Neighbors')\n",
    "plt.plot(neighbors, test_accuracy, label = 'Testing Accuracy')\n",
    "plt.plot(neighbors, train_accuracy, label = 'Training Accuracy')\n",
    "plt.legend()\n",
    "plt.xlabel('Number of Neighbors')\n",
    "plt.ylabel('Accuracy')\n",
    "plt.show()"
   ]
  }
 ],
 "metadata": {
  "kernelspec": {
   "display_name": "Python 3",
   "language": "python",
   "name": "python3"
  },
  "language_info": {
   "codemirror_mode": {
    "name": "ipython",
    "version": 3
   },
   "file_extension": ".py",
   "mimetype": "text/x-python",
   "name": "python",
   "nbconvert_exporter": "python",
   "pygments_lexer": "ipython3",
   "version": "3.7.9"
  }
 },
 "nbformat": 4,
 "nbformat_minor": 5
}
