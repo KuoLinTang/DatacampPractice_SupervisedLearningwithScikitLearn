{
 "cells": [
  {
   "cell_type": "markdown",
   "id": "palestinian-valuable",
   "metadata": {},
   "source": [
    "# Import General Modules"
   ]
  },
  {
   "cell_type": "code",
   "execution_count": 1,
   "id": "announced-practitioner",
   "metadata": {},
   "outputs": [],
   "source": [
    "from sklearn import datasets        #pip install sklearn\n",
    "import pandas as pd\n",
    "import numpy as np\n",
    "import matplotlib.pyplot as plt     #pip install matplotlib"
   ]
  },
  {
   "cell_type": "markdown",
   "id": "secret-butler",
   "metadata": {},
   "source": [
    "## Import Dataset"
   ]
  },
  {
   "cell_type": "code",
   "execution_count": 2,
   "id": "appointed-physiology",
   "metadata": {
    "scrolled": true
   },
   "outputs": [
    {
     "name": "stdout",
     "output_type": "stream",
     "text": [
      "    ID_code  target    var_0   var_1    var_2   var_3    var_4    var_5  \\\n",
      "0  117296.0       0  10.0166 -5.3389  14.4177  7.6423  10.2333  -0.9264   \n",
      "1  128811.0       0  11.0658 -3.9545   8.3093  7.9529   9.4302   2.2288   \n",
      "2  102157.0       0  10.7706 -2.4301  12.5566  2.9094  11.7262 -15.1866   \n",
      "3   83318.0       0   6.2656 -4.3419   8.6128  5.7297  11.6490 -13.4537   \n",
      "4  123728.0       0  16.1220 -1.2336   8.6954  3.9963  12.3264   3.6321   \n",
      "5  175047.0       0  15.8901 -1.8603  12.9719  4.1176  13.5651 -15.8555   \n",
      "6   64808.0       0  14.2173 -3.8560  10.8202  6.1351  12.6883 -14.0278   \n",
      "7   48600.0       0  14.9505 -4.1329  15.5292  4.0573  13.2808   0.5303   \n",
      "8  111702.0       0  12.2913  2.0164  11.3550  3.6185  10.8071   7.0179   \n",
      "9  175767.0       0  11.4129  1.8300  14.0328  6.9748  11.3440 -15.1965   \n",
      "\n",
      "    var_6    var_7  ...  var_190  var_191  var_192  var_193  var_194  var_195  \\\n",
      "0  5.3463  19.0265  ...   8.8221   6.9087   0.0284   8.3994  17.0583  -0.5636   \n",
      "1  5.6610  13.2771  ...  11.4110   7.5534   1.9942   8.4492  20.5832  -0.7115   \n",
      "2  5.1032  15.8146  ...  -2.4767   3.3283  -0.8760   1.1687  18.2472  -2.0685   \n",
      "3  4.6964  12.0172  ...   0.2626   4.2182   1.7048   3.8444  22.4139   2.3421   \n",
      "4  5.3929  16.0255  ...   3.2659   6.0913   1.5946  10.3734  17.9380  -0.5388   \n",
      "5  4.8353  13.1941  ...  -3.8201   6.0768   0.5086  -0.5003  20.5596  -1.9322   \n",
      "6  6.7934  14.6985  ...   9.8765   7.7518   4.0829   6.7329  20.3390   1.7227   \n",
      "7  4.3603  13.6071  ...  -0.2528  13.3508  -1.0102   2.8192  20.5368   1.3427   \n",
      "8  5.8655  21.7457  ...  -3.9928   3.3569   3.1414   7.8446  16.7603  -0.3186   \n",
      "9  5.8238  22.0802  ...  -2.5246  11.7505   2.5357   6.1279  20.1106  -0.2247   \n",
      "\n",
      "   var_196  var_197  var_198  var_199  \n",
      "0   3.6802   8.6182  15.3648 -17.3103  \n",
      "1   6.3111  10.1582  18.8043 -20.3466  \n",
      "2   3.5009   9.5400  15.3274 -17.7938  \n",
      "3  -2.9410   8.8277  17.1619  -9.4158  \n",
      "4  -3.0333   8.9256  11.7865  -2.4621  \n",
      "5   8.4599   8.9398  16.7443  -5.8967  \n",
      "6  14.1498   8.6998  14.4437  -7.2855  \n",
      "7   6.5881   9.5009  17.7763  -2.8595  \n",
      "8  -0.7163   9.4373  20.0817   5.2624  \n",
      "9   8.9793   8.0406   8.9055   2.0696  \n",
      "\n",
      "[10 rows x 202 columns]\n"
     ]
    }
   ],
   "source": [
    "DF = pd.read_csv(\"D:/程式練習/Datacamp/Supervised Learning with scikit-learn/datafile_small.csv\")\n",
    "print(DF.head(10))"
   ]
  },
  {
   "cell_type": "code",
   "execution_count": 3,
   "id": "equipped-diamond",
   "metadata": {},
   "outputs": [],
   "source": [
    "DF = DF.dropna()"
   ]
  },
  {
   "cell_type": "code",
   "execution_count": 11,
   "id": "danish-native",
   "metadata": {},
   "outputs": [],
   "source": [
    "X = DF.drop(\"ID_code\", axis = 1).drop(\"target\", axis = 1).to_numpy()\n",
    "y = DF[\"target\"].to_numpy()"
   ]
  },
  {
   "cell_type": "markdown",
   "id": "standing-scout",
   "metadata": {},
   "source": [
    "## Splitting Dataset"
   ]
  },
  {
   "cell_type": "code",
   "execution_count": 8,
   "id": "proud-aerospace",
   "metadata": {},
   "outputs": [],
   "source": [
    "# Create training and test set\n",
    "from sklearn.model_selection import train_test_split\n",
    "X_train, X_test, y_train, y_test = train_test_split(X, y, random_state = 42, test_size = 0.4)"
   ]
  },
  {
   "cell_type": "markdown",
   "id": "loved-france",
   "metadata": {},
   "source": [
    "## Training KNN Model"
   ]
  },
  {
   "cell_type": "code",
   "execution_count": 9,
   "id": "consecutive-valuation",
   "metadata": {},
   "outputs": [],
   "source": [
    "from sklearn.neighbors import KNeighborsClassifier\n",
    "# Instantiate a k-NN classifier: knn\n",
    "knn = KNeighborsClassifier(n_neighbors = 6)\n",
    "\n",
    "# Fit the classifier to the training data\n",
    "knn.fit(X_train, y_train)\n",
    "\n",
    "# Predict the labels of the test data: y_pred\n",
    "y_pred = knn.predict(X_test)"
   ]
  },
  {
   "cell_type": "markdown",
   "id": "composite-polish",
   "metadata": {},
   "source": [
    "## Model Evaluation"
   ]
  },
  {
   "cell_type": "code",
   "execution_count": 10,
   "id": "seven-premiere",
   "metadata": {},
   "outputs": [
    {
     "name": "stdout",
     "output_type": "stream",
     "text": [
      "[[3613    1]\n",
      " [ 383    0]]\n",
      "              precision    recall  f1-score   support\n",
      "\n",
      "           0       0.90      1.00      0.95      3614\n",
      "           1       0.00      0.00      0.00       383\n",
      "\n",
      "    accuracy                           0.90      3997\n",
      "   macro avg       0.45      0.50      0.47      3997\n",
      "weighted avg       0.82      0.90      0.86      3997\n",
      "\n"
     ]
    }
   ],
   "source": [
    "from sklearn.metrics import classification_report\n",
    "from sklearn.metrics import confusion_matrix\n",
    "# Generate the confusion matrix and classification report\n",
    "print(confusion_matrix(y_test, y_pred))\n",
    "print(classification_report(y_test, y_pred))"
   ]
  },
  {
   "cell_type": "markdown",
   "id": "manufactured-microphone",
   "metadata": {},
   "source": [
    "## Logistic Regression"
   ]
  },
  {
   "cell_type": "code",
   "execution_count": 12,
   "id": "greater-pendant",
   "metadata": {},
   "outputs": [],
   "source": [
    "from sklearn.linear_model import LogisticRegression"
   ]
  },
  {
   "cell_type": "code",
   "execution_count": 13,
   "id": "mounted-ministry",
   "metadata": {},
   "outputs": [
    {
     "name": "stderr",
     "output_type": "stream",
     "text": [
      "E:\\Anaconda\\lib\\site-packages\\sklearn\\linear_model\\_logistic.py:765: ConvergenceWarning: lbfgs failed to converge (status=1):\n",
      "STOP: TOTAL NO. of ITERATIONS REACHED LIMIT.\n",
      "\n",
      "Increase the number of iterations (max_iter) or scale the data as shown in:\n",
      "    https://scikit-learn.org/stable/modules/preprocessing.html\n",
      "Please also refer to the documentation for alternative solver options:\n",
      "    https://scikit-learn.org/stable/modules/linear_model.html#logistic-regression\n",
      "  extra_warning_msg=_LOGISTIC_SOLVER_CONVERGENCE_MSG)\n"
     ]
    },
    {
     "data": {
      "text/plain": [
       "LogisticRegression()"
      ]
     },
     "execution_count": 13,
     "metadata": {},
     "output_type": "execute_result"
    }
   ],
   "source": [
    "logis = LogisticRegression()\n",
    "logis.fit(X_train, y_train)"
   ]
  },
  {
   "cell_type": "markdown",
   "id": "greatest-police",
   "metadata": {},
   "source": [
    "### Predicting Class"
   ]
  },
  {
   "cell_type": "code",
   "execution_count": 14,
   "id": "written-password",
   "metadata": {},
   "outputs": [],
   "source": [
    "y_pred = logis.predict(X_test)"
   ]
  },
  {
   "cell_type": "markdown",
   "id": "supported-setup",
   "metadata": {},
   "source": [
    "### Plot ROC plot"
   ]
  },
  {
   "cell_type": "code",
   "execution_count": 15,
   "id": "agricultural-island",
   "metadata": {},
   "outputs": [],
   "source": [
    "from sklearn.metrics import roc_curve"
   ]
  },
  {
   "cell_type": "markdown",
   "id": "returning-championship",
   "metadata": {},
   "source": [
    "#### Predicting Probability"
   ]
  },
  {
   "cell_type": "code",
   "execution_count": 23,
   "id": "apart-sullivan",
   "metadata": {},
   "outputs": [
    {
     "name": "stdout",
     "output_type": "stream",
     "text": [
      "[0.17072931 0.01582979 0.00973764 ... 0.01029474 0.09645227 0.00872223]\n"
     ]
    }
   ],
   "source": [
    "# predict_proba回傳一個有兩個column的dataframe，第0個column存有False的機率，第1個column存有True的機率，畫ROC curve要用到True的機率\n",
    "y_pred_prob = logis.predict_proba(X_test)[:, 1]\n",
    "print(y_pred_prob)"
   ]
  },
  {
   "cell_type": "code",
   "execution_count": 24,
   "id": "necessary-religion",
   "metadata": {},
   "outputs": [],
   "source": [
    "# fpr is False Positive Rate\n",
    "# tpr is True Positive Rate\n",
    "fpr, tpr, thresholds = roc_curve(y_test, y_pred_prob)"
   ]
  },
  {
   "cell_type": "code",
   "execution_count": 25,
   "id": "tropical-tunisia",
   "metadata": {},
   "outputs": [
    {
     "data": {
      "image/png": "[encoded data removed]",
      "text/plain": [
       "<Figure size 432x288 with 1 Axes>"
      ]
     },
     "metadata": {
      "needs_background": "light"
     },
     "output_type": "display_data"
    }
   ],
   "source": [
    "plt.plot([0, 1], [0, 1], 'k--')      # Adding baseline\n",
    "plt.plot(fpr, tpr, label='Logistic Regression')\n",
    "plt.xlabel(\"False Positive Rate\")\n",
    "plt.ylabel(\"True Positive Rate\")\n",
    "plt.title(\"ROC Plot\")\n",
    "plt.show()"
   ]
  },
  {
   "cell_type": "markdown",
   "id": "automatic-circuit",
   "metadata": {},
   "source": [
    "### AUC"
   ]
  },
  {
   "cell_type": "code",
   "execution_count": 28,
   "id": "straight-warrant",
   "metadata": {},
   "outputs": [],
   "source": [
    "from sklearn.metrics import roc_auc_score"
   ]
  },
  {
   "cell_type": "code",
   "execution_count": 30,
   "id": "loaded-diana",
   "metadata": {},
   "outputs": [
    {
     "data": {
      "text/plain": [
       "0.7976790288997964"
      ]
     },
     "execution_count": 30,
     "metadata": {},
     "output_type": "execute_result"
    }
   ],
   "source": [
    "roc_auc_score(y_test, y_pred_prob)"
   ]
  },
  {
   "cell_type": "markdown",
   "id": "confident-milwaukee",
   "metadata": {},
   "source": [
    "### Using AUC for Cross Validation"
   ]
  },
  {
   "cell_type": "code",
   "execution_count": 31,
   "id": "boring-orchestra",
   "metadata": {},
   "outputs": [],
   "source": [
    "from sklearn.model_selection import cross_val_score"
   ]
  },
  {
   "cell_type": "code",
   "execution_count": 32,
   "id": "greatest-breed",
   "metadata": {},
   "outputs": [
    {
     "name": "stderr",
     "output_type": "stream",
     "text": [
      "E:\\Anaconda\\lib\\site-packages\\sklearn\\linear_model\\_logistic.py:765: ConvergenceWarning: lbfgs failed to converge (status=1):\n",
      "STOP: TOTAL NO. of ITERATIONS REACHED LIMIT.\n",
      "\n",
      "Increase the number of iterations (max_iter) or scale the data as shown in:\n",
      "    https://scikit-learn.org/stable/modules/preprocessing.html\n",
      "Please also refer to the documentation for alternative solver options:\n",
      "    https://scikit-learn.org/stable/modules/linear_model.html#logistic-regression\n",
      "  extra_warning_msg=_LOGISTIC_SOLVER_CONVERGENCE_MSG)\n",
      "E:\\Anaconda\\lib\\site-packages\\sklearn\\linear_model\\_logistic.py:765: ConvergenceWarning: lbfgs failed to converge (status=1):\n",
      "STOP: TOTAL NO. of ITERATIONS REACHED LIMIT.\n",
      "\n",
      "Increase the number of iterations (max_iter) or scale the data as shown in:\n",
      "    https://scikit-learn.org/stable/modules/preprocessing.html\n",
      "Please also refer to the documentation for alternative solver options:\n",
      "    https://scikit-learn.org/stable/modules/linear_model.html#logistic-regression\n",
      "  extra_warning_msg=_LOGISTIC_SOLVER_CONVERGENCE_MSG)\n",
      "E:\\Anaconda\\lib\\site-packages\\sklearn\\linear_model\\_logistic.py:765: ConvergenceWarning: lbfgs failed to converge (status=1):\n",
      "STOP: TOTAL NO. of ITERATIONS REACHED LIMIT.\n",
      "\n",
      "Increase the number of iterations (max_iter) or scale the data as shown in:\n",
      "    https://scikit-learn.org/stable/modules/preprocessing.html\n",
      "Please also refer to the documentation for alternative solver options:\n",
      "    https://scikit-learn.org/stable/modules/linear_model.html#logistic-regression\n",
      "  extra_warning_msg=_LOGISTIC_SOLVER_CONVERGENCE_MSG)\n",
      "E:\\Anaconda\\lib\\site-packages\\sklearn\\linear_model\\_logistic.py:765: ConvergenceWarning: lbfgs failed to converge (status=1):\n",
      "STOP: TOTAL NO. of ITERATIONS REACHED LIMIT.\n",
      "\n",
      "Increase the number of iterations (max_iter) or scale the data as shown in:\n",
      "    https://scikit-learn.org/stable/modules/preprocessing.html\n",
      "Please also refer to the documentation for alternative solver options:\n",
      "    https://scikit-learn.org/stable/modules/linear_model.html#logistic-regression\n",
      "  extra_warning_msg=_LOGISTIC_SOLVER_CONVERGENCE_MSG)\n"
     ]
    },
    {
     "name": "stdout",
     "output_type": "stream",
     "text": [
      "[0.80167437 0.84521867 0.82774201 0.81489709 0.82660864]\n",
      "Average 5-Fold CV Score: 0.8232281560733824\n"
     ]
    },
    {
     "name": "stderr",
     "output_type": "stream",
     "text": [
      "E:\\Anaconda\\lib\\site-packages\\sklearn\\linear_model\\_logistic.py:765: ConvergenceWarning: lbfgs failed to converge (status=1):\n",
      "STOP: TOTAL NO. of ITERATIONS REACHED LIMIT.\n",
      "\n",
      "Increase the number of iterations (max_iter) or scale the data as shown in:\n",
      "    https://scikit-learn.org/stable/modules/preprocessing.html\n",
      "Please also refer to the documentation for alternative solver options:\n",
      "    https://scikit-learn.org/stable/modules/linear_model.html#logistic-regression\n",
      "  extra_warning_msg=_LOGISTIC_SOLVER_CONVERGENCE_MSG)\n"
     ]
    }
   ],
   "source": [
    "cv_results = cross_val_score(logis, X_train, y_train, cv = 5, scoring = \"roc_auc\")\n",
    "print(cv_results)\n",
    "print(\"Average 5-Fold CV Score: {}\".format(np.mean(cv_results)))"
   ]
  },
  {
   "cell_type": "markdown",
   "id": "elder-democrat",
   "metadata": {},
   "source": [
    "# Hyperparameter Tuning"
   ]
  },
  {
   "cell_type": "markdown",
   "id": "exclusive-castle",
   "metadata": {},
   "source": [
    "## Grid Search Cross Validation"
   ]
  },
  {
   "cell_type": "code",
   "execution_count": 33,
   "id": "weighted-warrior",
   "metadata": {},
   "outputs": [],
   "source": [
    "from sklearn.model_selection import GridSearchCV"
   ]
  },
  {
   "cell_type": "markdown",
   "id": "equivalent-canvas",
   "metadata": {},
   "source": [
    "### Setting Search Grid"
   ]
  },
  {
   "cell_type": "code",
   "execution_count": 2,
   "id": "finnish-puppy",
   "metadata": {},
   "outputs": [
    {
     "data": {
      "text/plain": [
       "{'n_neighbors': array([ 1,  2,  3,  4,  5,  6,  7,  8,  9, 10, 11, 12, 13, 14, 15, 16, 17,\n",
       "        18, 19, 20, 21, 22, 23, 24, 25, 26, 27, 28, 29, 30, 31, 32, 33, 34,\n",
       "        35, 36, 37, 38, 39, 40, 41, 42, 43, 44, 45, 46, 47, 48, 49])}"
      ]
     },
     "execution_count": 2,
     "metadata": {},
     "output_type": "execute_result"
    }
   ],
   "source": [
    "import numpy as np\n",
    "# Grid Search的傳入參數為dictionary\n",
    "param_grid = {'n_neighbors': np.arange(1, 50)}\n",
    "param_grid"
   ]
  },
  {
   "cell_type": "markdown",
   "id": "guilty-cache",
   "metadata": {},
   "source": [
    "### Setting model"
   ]
  },
  {
   "cell_type": "code",
   "execution_count": 48,
   "id": "recovered-string",
   "metadata": {},
   "outputs": [],
   "source": [
    "knn = KNeighborsClassifier()"
   ]
  },
  {
   "cell_type": "markdown",
   "id": "scheduled-gossip",
   "metadata": {},
   "source": [
    "### Performing Grid Search CV to choose the best combination of parameters"
   ]
  },
  {
   "cell_type": "code",
   "execution_count": 49,
   "id": "latter-seafood",
   "metadata": {},
   "outputs": [
    {
     "name": "stdout",
     "output_type": "stream",
     "text": [
      "ResultGridSearchCV(cv=5, estimator=KNeighborsClassifier(),\n",
      "             param_grid={'n_neighbors': array([ 1,  2,  3,  4,  5,  6,  7,  8,  9, 10, 11, 12, 13, 14, 15, 16, 17,\n",
      "       18, 19, 20, 21, 22, 23, 24, 25, 26, 27, 28, 29, 30, 31, 32, 33, 34,\n",
      "       35, 36, 37, 38, 39, 40, 41, 42, 43, 44, 45, 46, 47, 48, 49])})\n"
     ]
    }
   ],
   "source": [
    "knn_cv = GridSearchCV(knn, param_grid, cv = 5)\n",
    "print(\"Result\" + str(knn_cv))"
   ]
  },
  {
   "cell_type": "markdown",
   "id": "german-wellington",
   "metadata": {},
   "source": [
    "### Fitting Model to Data"
   ]
  },
  {
   "cell_type": "code",
   "execution_count": 51,
   "id": "professional-boxing",
   "metadata": {},
   "outputs": [
    {
     "name": "stdout",
     "output_type": "stream",
     "text": [
      "Tuned Logistic Regression Parameters: {'n_neighbors': 8}\n",
      "Best score is 0.897414512093411\n"
     ]
    }
   ],
   "source": [
    "knn_cv.fit(X_train, y_train)\n",
    "print(\"Tuned Knn Parameters: {}\".format(knn_cv.best_params_)) \n",
    "print(\"Best score is {}\".format(knn_cv.best_score_))"
   ]
  },
  {
   "cell_type": "markdown",
   "id": "excessive-copying",
   "metadata": {},
   "source": [
    "# Decision Tree with Randomised Search CV"
   ]
  },
  {
   "cell_type": "markdown",
   "id": "palestinian-manhattan",
   "metadata": {},
   "source": [
    "## Import Necessary Modules"
   ]
  },
  {
   "cell_type": "code",
   "execution_count": 57,
   "id": "stupid-blade",
   "metadata": {},
   "outputs": [],
   "source": [
    "from scipy.stats import randint\n",
    "from sklearn.tree import DecisionTreeClassifier\n",
    "from sklearn.model_selection import RandomizedSearchCV"
   ]
  },
  {
   "cell_type": "markdown",
   "id": "convenient-hygiene",
   "metadata": {},
   "source": [
    "## Setup the parameters and distributions to sample from: param_dist"
   ]
  },
  {
   "cell_type": "code",
   "execution_count": 53,
   "id": "raising-kazakhstan",
   "metadata": {},
   "outputs": [],
   "source": [
    "param_dist = {\"max_depth\": [3, None],\n",
    "              \"max_features\": randint(1, 9),\n",
    "              \"min_samples_leaf\": randint(1, 9),\n",
    "              \"criterion\": [\"gini\", \"entropy\"]}"
   ]
  },
  {
   "cell_type": "markdown",
   "id": "adverse-layout",
   "metadata": {},
   "source": [
    "## Initiate Decision Tree classifer and performing Randomised Search CV"
   ]
  },
  {
   "cell_type": "code",
   "execution_count": 54,
   "id": "chinese-elevation",
   "metadata": {},
   "outputs": [
    {
     "data": {
      "text/plain": [
       "RandomizedSearchCV(cv=5, estimator=DecisionTreeClassifier(),\n",
       "                   param_distributions={'criterion': ['gini', 'entropy'],\n",
       "                                        'max_depth': [3, None],\n",
       "                                        'max_features': <scipy.stats._distn_infrastructure.rv_frozen object at 0x000001EF01FAAF48>,\n",
       "                                        'min_samples_leaf': <scipy.stats._distn_infrastructure.rv_frozen object at 0x000001EF00EFC5C8>})"
      ]
     },
     "execution_count": 54,
     "metadata": {},
     "output_type": "execute_result"
    }
   ],
   "source": [
    "# Instantiate a Decision Tree classifier: tree\n",
    "tree = DecisionTreeClassifier()\n",
    "\n",
    "# Instantiate the RandomizedSearchCV object: tree_cv\n",
    "tree_cv = RandomizedSearchCV(tree, param_dist, cv=5)\n",
    "\n",
    "# Fit it to the data\n",
    "tree_cv.fit(X, y)"
   ]
  },
  {
   "cell_type": "markdown",
   "id": "tired-lawyer",
   "metadata": {},
   "source": [
    "## Print Results"
   ]
  },
  {
   "cell_type": "code",
   "execution_count": 58,
   "id": "friendly-gauge",
   "metadata": {},
   "outputs": [
    {
     "name": "stdout",
     "output_type": "stream",
     "text": [
      "Tuned Decision Tree Parameters: {'criterion': 'gini', 'max_depth': 3, 'max_features': 5, 'min_samples_leaf': 8}\n",
      "Best score is 0.9003202802602501\n"
     ]
    }
   ],
   "source": [
    "# Print the tuned parameters and score\n",
    "print(\"Tuned Decision Tree Parameters: {}\".format(tree_cv.best_params_))\n",
    "print(\"Best score is {}\".format(tree_cv.best_score_))"
   ]
  }
 ],
 "metadata": {
  "kernelspec": {
   "display_name": "Python 3",
   "language": "python",
   "name": "python3"
  },
  "language_info": {
   "codemirror_mode": {
    "name": "ipython",
    "version": 3
   },
   "file_extension": ".py",
   "mimetype": "text/x-python",
   "name": "python",
   "nbconvert_exporter": "python",
   "pygments_lexer": "ipython3",
   "version": "3.7.9"
  }
 },
 "nbformat": 4,
 "nbformat_minor": 5
}
